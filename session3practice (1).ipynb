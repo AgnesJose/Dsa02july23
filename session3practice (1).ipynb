{
 "cells": [
  {
   "cell_type": "code",
   "execution_count": 1,
   "id": "925a77cf",
   "metadata": {},
   "outputs": [
    {
     "name": "stdout",
     "output_type": "stream",
     "text": [
      "Enter a string value: assemble\n",
      "a=1, s=2, e=2, m=1, b=1, l=1, "
     ]
    }
   ],
   "source": [
    "def count_characters(input_string):\n",
    "    char_count = {}  \n",
    "\n",
    "    for char in input_string:\n",
    "        if char in char_count:\n",
    "            char_count[char] += 1\n",
    "        else:\n",
    "            char_count[char] = 1\n",
    "\n",
    "    return char_count\n",
    "\n",
    "def main():\n",
    "    user_input = input(\"Enter a string value: \")\n",
    "    char_count = count_characters(user_input)\n",
    "\n",
    "    for char, count in char_count.items():\n",
    "        print(f\"{char}={count}\", end=\", \")\n",
    "\n",
    "if __name__ == \"__main__\":\n",
    "    main()\n"
   ]
  },
  {
   "cell_type": "code",
   "execution_count": 2,
   "id": "4d384c2c",
   "metadata": {},
   "outputs": [
    {
     "name": "stdout",
     "output_type": "stream",
     "text": [
      "Maximum of the three numbers: 34\n"
     ]
    }
   ],
   "source": [
    "def find_maximum(a, b, c):\n",
    "    return max(a, b, c)\n",
    "num1 = 34\n",
    "num2 = 12\n",
    "num3 = 7\n",
    "\n",
    "maximum = find_maximum(num1, num2, num3)\n",
    "print(\"Maximum of the three numbers:\", maximum)\n"
   ]
  },
  {
   "cell_type": "code",
   "execution_count": 3,
   "id": "be3da57a",
   "metadata": {},
   "outputs": [
    {
     "name": "stdout",
     "output_type": "stream",
     "text": [
      "Enter the base: 2\n",
      "Enter the exponent: 3\n",
      "Result: 8.0\n"
     ]
    }
   ],
   "source": [
    "def exponent(base, exp):\n",
    "    result = base ** exp\n",
    "    return result\n",
    "\n",
    "base = float(input(\"Enter the base: \"))\n",
    "exp = int(input(\"Enter the exponent: \"))\n",
    "\n",
    "result = exponent(base, exp)\n",
    "print(\"Result:\", result)\n"
   ]
  },
  {
   "cell_type": "code",
   "execution_count": 4,
   "id": "0dba2368",
   "metadata": {},
   "outputs": [
    {
     "name": "stdout",
     "output_type": "stream",
     "text": [
      "Enter a positive integer: 4\n",
      "Sum of the cubes of positive integers smaller than 4 : 36\n"
     ]
    }
   ],
   "source": [
    "def sum_of_cubes(n):\n",
    "    total = 0\n",
    "    for i in range(1, n):\n",
    "        total += i ** 3\n",
    "    return total\n",
    "\n",
    "num = int(input(\"Enter a positive integer: \"))\n",
    "\n",
    "result = sum_of_cubes(num)\n",
    "print(\"Sum of the cubes of positive integers smaller than\", num, \":\", result)\n"
   ]
  },
  {
   "cell_type": "code",
   "execution_count": null,
   "id": "7d284bc8",
   "metadata": {},
   "outputs": [],
   "source": []
  }
 ],
 "metadata": {
  "kernelspec": {
   "display_name": "Python 3 (ipykernel)",
   "language": "python",
   "name": "python3"
  },
  "language_info": {
   "codemirror_mode": {
    "name": "ipython",
    "version": 3
   },
   "file_extension": ".py",
   "mimetype": "text/x-python",
   "name": "python",
   "nbconvert_exporter": "python",
   "pygments_lexer": "ipython3",
   "version": "3.11.3"
  }
 },
 "nbformat": 4,
 "nbformat_minor": 5
}
